{
 "cells": [
  {
   "cell_type": "code",
   "execution_count": 105,
   "metadata": {},
   "outputs": [],
   "source": [
    "import tensorflow.compat.v2 as tf\n",
    "import matplotlib.pyplot as plt\n",
    "import numpy as np"
   ]
  },
  {
   "cell_type": "code",
   "execution_count": 106,
   "metadata": {},
   "outputs": [],
   "source": [
    "# reconstruct the model identically.\n",
    "# my_model = tf.keras.models.load_model(\"my_model_v2\")\n",
    "my_model = tf.keras.models.load_model(\"my_model_v2.h5\")"
   ]
  },
  {
   "cell_type": "code",
   "execution_count": 115,
   "metadata": {},
   "outputs": [
    {
     "name": "stdout",
     "output_type": "stream",
     "text": [
      "<dtype: 'float32'>\n",
      "(28, 28, 3)\n",
      "3\n"
     ]
    }
   ],
   "source": [
    "img_raw = tf.io.read_file(\"imgs/8_002.jpg\")\n",
    "image = tf.image.decode_jpeg(img_raw)\n",
    "image = tf.image.convert_image_dtype(image, tf.float32)\n",
    "image = tf.image.resize(image, [28, 28])\n",
    "\n",
    "print(image.dtype)\n",
    "print(image.shape)\n",
    "print(image.shape[2])\n"
   ]
  },
  {
   "cell_type": "code",
   "execution_count": 116,
   "metadata": {},
   "outputs": [
    {
     "name": "stdout",
     "output_type": "stream",
     "text": [
      "it is rgb, need transfer\n",
      "float32\n",
      "(1, 28, 28, 1)\n"
     ]
    },
    {
     "data": {
      "image/png": "[encoded data removed]",
      "text/plain": [
       "<Figure size 432x288 with 1 Axes>"
      ]
     },
     "metadata": {
      "needs_background": "light"
     },
     "output_type": "display_data"
    }
   ],
   "source": [
    "if image.shape[2] == 3:\n",
    "    print('it is rgb, need transfer')    \n",
    "    gray_img = tf.image.rgb_to_grayscale(image)\n",
    "\n",
    "#     bw_img = 1.0 - gray_img\n",
    "    plt.imshow(gray_img[...,0])\n",
    "\n",
    "    bw_img_arr = tf.expand_dims(gray_img, 0)\n",
    "\n",
    "elif image.shape[2] == 1:\n",
    "    print('it is grayscale, does not need transfer')\n",
    "    plt.imshow(image[...,0])\n",
    "    \n",
    "    bw_img_arr = tf.expand_dims(image, 0)\n",
    "\n",
    "\n",
    "    \n",
    "print(bw_img_arr.numpy().dtype)\n",
    "print(bw_img_arr.numpy().shape)"
   ]
  },
  {
   "cell_type": "code",
   "execution_count": 117,
   "metadata": {},
   "outputs": [
    {
     "data": {
      "text/plain": [
       "8"
      ]
     },
     "execution_count": 117,
     "metadata": {},
     "output_type": "execute_result"
    }
   ],
   "source": [
    "output_data = my_model.predict(bw_img_arr)\n",
    "np.argmax(output_data)"
   ]
  },
  {
   "cell_type": "code",
   "execution_count": 110,
   "metadata": {},
   "outputs": [
    {
     "name": "stdout",
     "output_type": "stream",
     "text": [
      "float32\n",
      "(28, 28, 1)\n",
      "<dtype: 'float32'>\n",
      "(1, 28, 28, 1)\n"
     ]
    },
    {
     "data": {
      "image/png": "[encoded data removed]",
      "text/plain": [
       "<Figure size 432x288 with 1 Axes>"
      ]
     },
     "metadata": {
      "needs_background": "light"
     },
     "output_type": "display_data"
    }
   ],
   "source": [
    "\n",
    "from tensorflow.keras.preprocessing.image import img_to_array, load_img\n",
    "from matplotlib import pyplot as plt\n",
    "\n",
    "image = load_img(\"imgs/6_003.jpg\", color_mode=\"grayscale\", target_size=(28,28))\n",
    "\n",
    "\n",
    "plt.imshow(image)\n",
    "\n",
    "\n",
    "\n",
    "image_array = img_to_array(image)\n",
    "print(image_array.dtype)\n",
    "print(image_array.shape)\n",
    "\n",
    "image_array = tf.expand_dims(image_array, 0)\n",
    "\n",
    "print(image_array.dtype)\n",
    "print(image_array.shape)"
   ]
  },
  {
   "cell_type": "code",
   "execution_count": 111,
   "metadata": {},
   "outputs": [
    {
     "data": {
      "text/plain": [
       "5"
      ]
     },
     "execution_count": 111,
     "metadata": {},
     "output_type": "execute_result"
    }
   ],
   "source": [
    "import numpy as np\n",
    "output_data = my_model.predict(image_array)\n",
    "np.argmax(output_data[0])\n"
   ]
  },
  {
   "cell_type": "code",
   "execution_count": 104,
   "metadata": {},
   "outputs": [
    {
     "name": "stdout",
     "output_type": "stream",
     "text": [
      "[5]\n"
     ]
    }
   ],
   "source": [
    "preds = my_model.predict_classes(image_array)\n",
    "print(preds)"
   ]
  },
  {
   "cell_type": "code",
   "execution_count": null,
   "metadata": {},
   "outputs": [],
   "source": [
    "print(output_data)"
   ]
  }
 ],
 "metadata": {
  "kernelspec": {
   "display_name": "conda_tensorflow2_p36",
   "language": "python",
   "name": "conda_tensorflow2_p36"
  },
  "language_info": {
   "codemirror_mode": {
    "name": "ipython",
    "version": 3
   },
   "file_extension": ".py",
   "mimetype": "text/x-python",
   "name": "python",
   "nbconvert_exporter": "python",
   "pygments_lexer": "ipython3",
   "version": "3.6.10"
  }
 },
 "nbformat": 4,
 "nbformat_minor": 4
}
