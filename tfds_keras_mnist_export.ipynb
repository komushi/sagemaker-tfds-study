{
 "cells": [
  {
   "cell_type": "code",
   "execution_count": 2,
   "metadata": {
    "colab": {},
    "colab_type": "code",
    "id": "TTBSvHcSLBzc"
   },
   "outputs": [],
   "source": [
    "import tensorflow.compat.v2 as tf\n",
    "import tensorflow_datasets as tfds\n",
    "\n",
    "tfds.disable_progress_bar()\n",
    "tf.enable_v2_behavior()"
   ]
  },
  {
   "cell_type": "code",
   "execution_count": 6,
   "metadata": {},
   "outputs": [
    {
     "name": "stdout",
     "output_type": "stream",
     "text": [
      "<class 'tensorflow.python.data.ops.dataset_ops._OptionsDataset'>\n",
      "<class 'numpy.ndarray'> <class 'numpy.int64'> 0\n",
      "uint8 (28, 28, 1) 0\n",
      "<class 'numpy.ndarray'> <class 'numpy.int64'> 1\n",
      "uint8 (28, 28, 1) 1\n"
     ]
    }
   ],
   "source": [
    "(ds_test, ds_train) = tfds.load(\n",
    "    'mnist',\n",
    "    split=['test', 'train'], \n",
    "    as_supervised=True,\n",
    "    shuffle_files=True\n",
    ")\n",
    "\n",
    "for image, label in tfds.as_numpy(ds_test.take(1)):\n",
    "    print(type(image), type(label), label)\n",
    "    print(image.dtype, image.shape, label)\n",
    "    \n",
    "for image, label in tfds.as_numpy(ds_train.take(1)):\n",
    "    print(type(image), type(label), label)\n",
    "    print(image.dtype, image.shape, label)"
   ]
  },
  {
   "cell_type": "code",
   "execution_count": 5,
   "metadata": {},
   "outputs": [],
   "source": [
    "# normalize_img\n",
    "# ds_test = ds_test.map(normalize_img, num_parallel_calls=tf.data.experimental.AUTOTUNE)\n"
   ]
  },
  {
   "cell_type": "code",
   "execution_count": 23,
   "metadata": {},
   "outputs": [
    {
     "name": "stdout",
     "output_type": "stream",
     "text": [
      "(28, 28, 1)\n",
      "<dtype: 'uint8'>\n",
      "0\n"
     ]
    },
    {
     "data": {
      "image/png": "[encoded data removed]",
      "text/plain": [
       "<Figure size 432x288 with 1 Axes>"
      ]
     },
     "metadata": {
      "needs_background": "light"
     },
     "output_type": "display_data"
    },
    {
     "name": "stdout",
     "output_type": "stream",
     "text": [
      "(28, 28, 1)\n",
      "<dtype: 'uint8'>\n",
      "6\n"
     ]
    },
    {
     "data": {
      "image/png": "[encoded data removed]",
      "text/plain": [
       "<Figure size 432x288 with 1 Axes>"
      ]
     },
     "metadata": {
      "needs_background": "light"
     },
     "output_type": "display_data"
    },
    {
     "name": "stdout",
     "output_type": "stream",
     "text": [
      "(28, 28, 1)\n",
      "<dtype: 'uint8'>\n",
      "5\n"
     ]
    },
    {
     "data": {
      "image/png": "[encoded data removed]",
      "text/plain": [
       "<Figure size 432x288 with 1 Axes>"
      ]
     },
     "metadata": {
      "needs_background": "light"
     },
     "output_type": "display_data"
    },
    {
     "name": "stdout",
     "output_type": "stream",
     "text": [
      "(28, 28, 1)\n",
      "<dtype: 'uint8'>\n",
      "7\n"
     ]
    },
    {
     "data": {
      "image/png": "[encoded data removed]",
      "text/plain": [
       "<Figure size 432x288 with 1 Axes>"
      ]
     },
     "metadata": {
      "needs_background": "light"
     },
     "output_type": "display_data"
    }
   ],
   "source": [
    "from matplotlib import pyplot as plt\n",
    "\n",
    "# A few random samples\n",
    "use_samples = [159, 1336, 1283, 2122]\n",
    "\n",
    "for sample in use_samples:\n",
    "    # Generate a plot\n",
    "    current_image = list(ds_test)[sample]\n",
    "    \n",
    "    print(current_image[0].shape)\n",
    "    print(current_image[0].dtype)\n",
    "\n",
    "    print(current_image[1].numpy())    \n",
    "    \n",
    "    img = tf.keras.preprocessing.image.array_to_img(current_image[0])    \n",
    "    plt.imshow(img)\n",
    "    plt.show()\n",
    "\n",
    "#     img_raw = tf.image.encode_jpeg(current_image[0], format='grayscale')\n",
    "    img_raw = tf.image.encode_jpeg(current_image[0])    \n",
    "    tf.io.write_file(filename='imgs/{}.jpg'.format(current_image[1].numpy()), contents=img_raw)\n",
    "\n",
    "\n",
    "\n"
   ]
  }
 ],
 "metadata": {
  "colab": {
   "collapsed_sections": [],
   "last_runtime": {
    "build_target": "//learning/deepmind/dm_python:dm_notebook3",
    "kind": "private"
   },
   "name": "tensorflow/datasets",
   "private_outputs": true,
   "provenance": []
  },
  "kernelspec": {
   "display_name": "conda_tensorflow2_p36",
   "language": "python",
   "name": "conda_tensorflow2_p36"
  },
  "language_info": {
   "codemirror_mode": {
    "name": "ipython",
    "version": 3
   },
   "file_extension": ".py",
   "mimetype": "text/x-python",
   "name": "python",
   "nbconvert_exporter": "python",
   "pygments_lexer": "ipython3",
   "version": "3.6.10"
  }
 },
 "nbformat": 4,
 "nbformat_minor": 4
}
