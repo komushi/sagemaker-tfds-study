{
 "cells": [
  {
   "cell_type": "code",
   "execution_count": 1,
   "metadata": {},
   "outputs": [],
   "source": [
    "import sagemaker"
   ]
  },
  {
   "cell_type": "code",
   "execution_count": 2,
   "metadata": {},
   "outputs": [
    {
     "name": "stdout",
     "output_type": "stream",
     "text": [
      "s3://sagemaker-ap-northeast-1-042083552617/tensorflow-datasets/\n"
     ]
    }
   ],
   "source": [
    "sess = sagemaker.Session()\n",
    "bucket = sess.default_bucket()\n",
    "\n",
    "dataset_path = \"s3://{}/{}/\".format(bucket, \"tensorflow-datasets\")\n",
    "print(dataset_path)\n"
   ]
  },
  {
   "cell_type": "code",
   "execution_count": null,
   "metadata": {},
   "outputs": [],
   "source": [
    "from sagemaker.tensorflow import TensorFlow\n",
    "# tf_estimator = TensorFlow(\n",
    "#     entry_point=\"train.py\",\n",
    "#     source_dir='scripts',\n",
    "#     hyperparameters={\"epochs\": 5, \"batch_size\": 128, \"learning_rate\": 0.01, \"dataset_path\": dataset_path, \"model_version\": \"3\"},\n",
    "#     role=sagemaker.get_execution_role(),\n",
    "#     instance_count=1,\n",
    "#     instance_type=\"local\",\n",
    "#     framework_version=\"2.3.0\",\n",
    "#     py_version=\"py37\"\n",
    "# )\n",
    "\n",
    "tf_estimator = TensorFlow(\n",
    "    entry_point=\"train.py\",\n",
    "    source_dir='scripts',\n",
    "    hyperparameters={\"epochs\": 5, \"batch_size\": 128, \"learning_rate\": 0.01, \"dataset_path\": dataset_path, \"model_version\": \"3\"},\n",
    "    role=sagemaker.get_execution_role(),\n",
    "    framework_version=\"2.3.0\",\n",
    "    instance_count=1,\n",
    "    instance_type=\"local\",\n",
    "    image_uri=\"763104351884.dkr.ecr.ap-northeast-1.amazonaws.com/tensorflow-training:2.3.0-gpu-py37-cu102-ubuntu18.04\"\n",
    ")\n"
   ]
  },
  {
   "cell_type": "code",
   "execution_count": null,
   "metadata": {},
   "outputs": [],
   "source": [
    "from datetime import datetime\n",
    "\n",
    "datetime_now = datetime.now().strftime(\"%Y-%m-%d-%H-%M-%S\")\n",
    "job_name = \"tfds-keras-training-\" + datetime_now\n",
    "print(job_name)\n",
    "\n",
    "tf_estimator.fit(job_name=job_name)\n"
   ]
  },
  {
   "cell_type": "code",
   "execution_count": 3,
   "metadata": {},
   "outputs": [],
   "source": [
    "from sagemaker.tensorflow import TensorFlow\n",
    "\n",
    "tf_estimator = TensorFlow(\n",
    "    entry_point=\"train.py\",\n",
    "    source_dir='scripts',\n",
    "    hyperparameters={\"epochs\": 6, \"batch_size\": 128, \"learning_rate\": 0.01, \"dataset_path\": dataset_path, \"model_version\": \"5\"},\n",
    "    role=sagemaker.get_execution_role(),\n",
    "    framework_version=\"2.3.0\",\n",
    "    py_version=\"py37\",\n",
    "    image_uri=\"763104351884.dkr.ecr.ap-northeast-1.amazonaws.com/tensorflow-training:2.3.0-gpu-py37-cu102-ubuntu18.04\",\n",
    "    instance_type=\"ml.p3.2xlarge\",\n",
    "    instance_count=2,\n",
    "    distribution={\"parameter_server\": {\"enabled\": True}}\n",
    ")\n",
    "\n",
    "\n",
    "# tf_estimator = TensorFlow(\n",
    "#     entry_point=\"train.py\",\n",
    "#     source_dir='scripts',\n",
    "#     hyperparameters={\"epochs\": 6, \"batch_size\": 128, \"learning_rate\": 0.01, \"dataset_path\": dataset_path, \"model_version\": \"3\"},\n",
    "#     role=sagemaker.get_execution_role(),\n",
    "#     instance_count=2,\n",
    "#     instance_type=\"ml.p3.2xlarge\",\n",
    "#     framework_version=\"2.3.0\",\n",
    "#     py_version=\"py37\",\n",
    "#     distribution={\"parameter_server\": {\"enabled\": True}}\n",
    "# )\n"
   ]
  },
  {
   "cell_type": "code",
   "execution_count": null,
   "metadata": {},
   "outputs": [
    {
     "name": "stdout",
     "output_type": "stream",
     "text": [
      "tfds-keras-training-2020-10-17-16-11-21\n",
      "2020-10-17 16:11:22 Starting - Starting the training job...\n",
      "2020-10-17 16:11:24 Starting - Launching requested ML instances....."
     ]
    }
   ],
   "source": [
    "from datetime import datetime\n",
    "\n",
    "datetime_now = datetime.now().strftime(\"%Y-%m-%d-%H-%M-%S\")\n",
    "job_name = \"tfds-keras-training-\" + datetime_now\n",
    "print(job_name)\n",
    "\n",
    "tf_estimator.fit(job_name=job_name)"
   ]
  },
  {
   "cell_type": "code",
   "execution_count": null,
   "metadata": {},
   "outputs": [],
   "source": []
  }
 ],
 "metadata": {
  "kernelspec": {
   "display_name": "conda_tensorflow2_p36",
   "language": "python",
   "name": "conda_tensorflow2_p36"
  },
  "language_info": {
   "codemirror_mode": {
    "name": "ipython",
    "version": 3
   },
   "file_extension": ".py",
   "mimetype": "text/x-python",
   "name": "python",
   "nbconvert_exporter": "python",
   "pygments_lexer": "ipython3",
   "version": "3.6.10"
  }
 },
 "nbformat": 4,
 "nbformat_minor": 4
}
