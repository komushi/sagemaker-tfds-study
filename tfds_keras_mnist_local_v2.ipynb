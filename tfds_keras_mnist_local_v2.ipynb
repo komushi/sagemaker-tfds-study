{
 "cells": [
  {
   "cell_type": "code",
   "execution_count": 1,
   "metadata": {
    "colab": {},
    "colab_type": "code",
    "id": "TTBSvHcSLBzc"
   },
   "outputs": [],
   "source": [
    "import tensorflow.compat.v2 as tf\n",
    "import tensorflow_datasets as tfds\n",
    "\n",
    "from tensorflow.keras.models import Sequential\n",
    "from tensorflow.keras.layers import Dense, Dropout, Flatten\n",
    "from tensorflow.keras.layers import Conv2D, MaxPooling2D\n",
    "from tensorflow.keras.losses import sparse_categorical_crossentropy\n",
    "from tensorflow.keras.optimizers import Adam\n",
    "\n",
    "tfds.disable_progress_bar()\n",
    "tf.enable_v2_behavior()"
   ]
  },
  {
   "cell_type": "code",
   "execution_count": 2,
   "metadata": {
    "colab": {},
    "colab_type": "code",
    "id": "ZUMhCXhFXdHQ"
   },
   "outputs": [],
   "source": [
    "# #S3 path does not work in notebook\n",
    "# import sagemaker\n",
    "\n",
    "# sess = sagemaker.Session()\n",
    "# bucket = sess.default_bucket()\n",
    "\n",
    "# dataset_path = \"s3://{}/{}/\".format(bucket, \"tensorflow-datasets\")\n",
    "# print(dataset_path)\n",
    "\n",
    "\n",
    "\n",
    "# (ds_train, ds_test), ds_info = tfds.load(\n",
    "#     'mnist',\n",
    "#     split=['train', 'test'],\n",
    "#     shuffle_files=True,\n",
    "#     as_supervised=True,\n",
    "#     data_dir=dataset_path,\n",
    "#     with_info=True,\n",
    "# )"
   ]
  },
  {
   "cell_type": "code",
   "execution_count": 3,
   "metadata": {
    "colab": {},
    "colab_type": "code",
    "id": "ZUMhCXhFXdHQ"
   },
   "outputs": [],
   "source": [
    "(ds_train, ds_test), ds_info = tfds.load(\n",
    "    'mnist',\n",
    "    split=['train', 'test'],\n",
    "    shuffle_files=True,\n",
    "    as_supervised=True,\n",
    "    with_info=True,\n",
    ")"
   ]
  },
  {
   "cell_type": "code",
   "execution_count": 4,
   "metadata": {},
   "outputs": [
    {
     "data": {
      "image/png": "[encoded data removed]",
      "text/plain": [
       "<Figure size 648x648 with 9 Axes>"
      ]
     },
     "metadata": {},
     "output_type": "display_data"
    }
   ],
   "source": [
    "fig = tfds.show_examples(ds_test, ds_info)"
   ]
  },
  {
   "cell_type": "code",
   "execution_count": 5,
   "metadata": {},
   "outputs": [
    {
     "name": "stdout",
     "output_type": "stream",
     "text": [
      "<dtype: 'uint8'> (28, 28, 1) tf.Tensor(4, shape=(), dtype=int64)\n",
      "<class 'numpy.ndarray'> <class 'numpy.int64'> 4\n"
     ]
    }
   ],
   "source": [
    "ds = ds_train.take(1)\n",
    "\n",
    "for image, label in ds:\n",
    "  print(image.dtype, image.shape, label)\n",
    "\n",
    "for image, label in tfds.as_numpy(ds):\n",
    "  print(type(image), type(label), label)\n",
    "\n"
   ]
  },
  {
   "cell_type": "code",
   "execution_count": 6,
   "metadata": {},
   "outputs": [],
   "source": [
    "def normalize_img(image, label):\n",
    "  \"\"\"Normalizes images: `uint8` -> `float32`.\"\"\"\n",
    "  return tf.cast(image, tf.float32) / 255., label"
   ]
  },
  {
   "cell_type": "code",
   "execution_count": 7,
   "metadata": {},
   "outputs": [],
   "source": [
    "# split begins\n",
    "ds_train = ds_train.map(\n",
    "    normalize_img, num_parallel_calls=tf.data.experimental.AUTOTUNE)"
   ]
  },
  {
   "cell_type": "code",
   "execution_count": 8,
   "metadata": {},
   "outputs": [],
   "source": [
    "ds_train = ds_train.cache()\n",
    "ds_train = ds_train.shuffle(ds_info.splits['train'].num_examples)\n",
    "ds_train = ds_train.batch(128)\n",
    "ds_train = ds_train.prefetch(tf.data.experimental.AUTOTUNE)\n",
    "# split ends"
   ]
  },
  {
   "cell_type": "code",
   "execution_count": null,
   "metadata": {
    "colab": {},
    "colab_type": "code",
    "id": "haykx2K9XgiI"
   },
   "outputs": [],
   "source": [
    "# before split\n",
    "# ds_train = ds_train.map(\n",
    "#     normalize_img, num_parallel_calls=tf.data.experimental.AUTOTUNE)\n",
    "# ds_train = ds_train.cache()\n",
    "# ds_train = ds_train.shuffle(ds_info.splits['train'].num_examples)\n",
    "# ds_train = ds_train.batch(128)\n",
    "# ds_train = ds_train.prefetch(tf.data.experimental.AUTOTUNE)"
   ]
  },
  {
   "cell_type": "markdown",
   "metadata": {
    "colab_type": "text",
    "id": "RbsMy4X1XVFv"
   },
   "source": [
    "### Build evaluation pipeline\n",
    "\n",
    "Testing pipeline is similar to the training pipeline, with small differences:\n",
    "\n",
    " * No `ds.shuffle()` call\n",
    " * Caching is done after batching (as batches can be the same between epoch)"
   ]
  },
  {
   "cell_type": "code",
   "execution_count": 9,
   "metadata": {
    "colab": {},
    "colab_type": "code",
    "id": "A0KjuDf7XiqY"
   },
   "outputs": [],
   "source": [
    "ds_test = ds_test.map(\n",
    "    normalize_img, num_parallel_calls=tf.data.experimental.AUTOTUNE)\n",
    "ds_test = ds_test.batch(128)\n",
    "ds_test = ds_test.cache()\n",
    "ds_test = ds_test.prefetch(tf.data.experimental.AUTOTUNE)"
   ]
  },
  {
   "cell_type": "code",
   "execution_count": 10,
   "metadata": {},
   "outputs": [
    {
     "name": "stdout",
     "output_type": "stream",
     "text": [
      "<dtype: 'float32'> (128, 28, 28, 1) tf.Tensor(\n",
      "[9 2 2 0 7 6 4 7 4 0 0 0 2 7 2 6 2 2 8 1 4 1 1 6 4 3 8 9 2 3 5 4 5 5 1 0 3\n",
      " 6 0 7 7 1 8 1 2 2 9 8 1 6 3 8 7 3 3 7 6 6 0 3 4 3 0 3 5 5 8 7 4 1 4 4 7 2\n",
      " 7 2 9 5 2 4 1 1 8 5 8 0 7 6 8 5 6 1 5 3 3 8 4 4 0 1 5 6 2 3 9 1 5 7 6 0 4\n",
      " 4 2 1 6 6 0 2 1 9 8 0 6 1 8 2 0 8], shape=(128,), dtype=int64)\n",
      "<class 'numpy.ndarray'> <class 'numpy.ndarray'> [2 1 6 3 6 7 1 6 1 6 9 8 3 5 7 5 0 8 4 6 2 3 8 7 7 4 7 3 7 8 2 1 7 1 9 1 8\n",
      " 4 3 1 5 0 2 6 0 2 8 2 1 4 0 0 1 2 6 9 5 2 1 0 4 6 3 1 1 2 0 7 7 3 3 2 8 7\n",
      " 8 6 7 3 1 6 3 8 9 7 6 1 7 5 2 0 2 4 9 8 9 8 9 9 7 7 4 1 1 9 4 6 2 2 1 9 1\n",
      " 0 3 9 7 7 0 6 6 8 7 7 9 7 8 2 4 5]\n",
      "<dtype: 'float32'> (128, 28, 28, 1) tf.Tensor(\n",
      "[8 4 2 7 6 0 6 0 3 1 8 0 7 9 5 4 8 4 3 0 6 6 3 2 0 3 6 6 7 4 9 3 7 8 5 4 5\n",
      " 2 5 8 5 2 9 2 2 4 7 0 5 1 0 7 9 9 9 6 5 8 8 6 9 9 5 4 2 6 8 1 0 6 9 5 5 4\n",
      " 1 6 7 5 2 9 0 6 4 4 2 8 7 8 3 0 9 0 1 1 9 4 5 9 7 6 6 0 7 7 8 4 8 8 1 8 0\n",
      " 2 9 1 0 3 9 7 0 4 9 6 8 9 3 5 4 3], shape=(128,), dtype=int64)\n",
      "<class 'numpy.ndarray'> <class 'numpy.ndarray'> [0 4 2 7 8 6 0 6 1 0 8 7 9 3 4 8 5 3 0 4 6 3 6 2 3 0 6 6 7 4 9 3 8 7 5 4 2\n",
      " 5 5 8 5 2 9 2 4 2 7 0 5 1 0 7 9 9 9 6 5 8 8 9 6 9 4 5 2 6 8 1 0 6 9 5 5 1\n",
      " 4 6 7 5 2 9 0 6 4 2 4 8 7 3 0 8 9 0 1 1 9 4 5 7 9 6 6 0 7 7 8 4 8 8 1 8 0\n",
      " 9 1 2 0 3 9 7 0 4 9 6 8 9 3 5 4 3]\n"
     ]
    }
   ],
   "source": [
    "ds = ds_train.take(1)\n",
    "\n",
    "for image, label in ds:\n",
    "  print(image.dtype, image.shape, label)\n",
    "\n",
    "for image, label in tfds.as_numpy(ds):\n",
    "  print(type(image), type(label), label)\n",
    "\n",
    "ds = ds_test.take(1)\n",
    "\n",
    "for image, label in ds:\n",
    "  print(image.dtype, image.shape, label)\n",
    "\n",
    "for image, label in tfds.as_numpy(ds):\n",
    "  print(type(image), type(label), label)"
   ]
  },
  {
   "cell_type": "markdown",
   "metadata": {
    "colab_type": "text",
    "id": "nTFoji3INMEM"
   },
   "source": [
    "## Step 2: Create and train the model\n",
    "\n",
    "Plug the input pipeline into Keras."
   ]
  },
  {
   "cell_type": "code",
   "execution_count": 13,
   "metadata": {},
   "outputs": [],
   "source": [
    "model = Sequential()\n",
    "model.add(Conv2D(32, kernel_size=(3, 3), activation='relu', input_shape=(28, 28, 1)))\n",
    "model.add(MaxPooling2D(pool_size=(2, 2)))\n",
    "model.add(Dropout(0.25))\n",
    "model.add(Conv2D(64, kernel_size=(3, 3), activation='relu'))\n",
    "model.add(MaxPooling2D(pool_size=(2, 2)))\n",
    "model.add(Dropout(0.25))\n",
    "model.add(Flatten())\n",
    "model.add(Dense(256, activation='relu'))\n",
    "model.add(Dense(10, activation='softmax'))"
   ]
  },
  {
   "cell_type": "code",
   "execution_count": 14,
   "metadata": {},
   "outputs": [],
   "source": [
    "model.compile(\n",
    "    loss='sparse_categorical_crossentropy',\n",
    "    optimizer=Adam(0.001),\n",
    "    metrics=['accuracy'],\n",
    ")"
   ]
  },
  {
   "cell_type": "code",
   "execution_count": 15,
   "metadata": {
    "colab": {},
    "colab_type": "code",
    "id": "XWqxdmS1NLKA"
   },
   "outputs": [
    {
     "name": "stdout",
     "output_type": "stream",
     "text": [
      "Epoch 1/10\n",
      "469/469 [==============================] - 6s 12ms/step - loss: 0.2287 - accuracy: 0.9309 - val_loss: 0.0619 - val_accuracy: 0.9794\n",
      "Epoch 2/10\n",
      "469/469 [==============================] - 2s 4ms/step - loss: 0.0714 - accuracy: 0.9781 - val_loss: 0.0407 - val_accuracy: 0.9865\n",
      "Epoch 3/10\n",
      "469/469 [==============================] - 2s 4ms/step - loss: 0.0491 - accuracy: 0.9845 - val_loss: 0.0365 - val_accuracy: 0.9878\n",
      "Epoch 4/10\n",
      "469/469 [==============================] - 2s 4ms/step - loss: 0.0388 - accuracy: 0.9875 - val_loss: 0.0269 - val_accuracy: 0.9906\n",
      "Epoch 5/10\n",
      "469/469 [==============================] - 2s 4ms/step - loss: 0.0319 - accuracy: 0.9896 - val_loss: 0.0241 - val_accuracy: 0.9911\n",
      "Epoch 6/10\n",
      "469/469 [==============================] - 2s 4ms/step - loss: 0.0287 - accuracy: 0.9905 - val_loss: 0.0238 - val_accuracy: 0.9918\n",
      "Epoch 7/10\n",
      "469/469 [==============================] - 2s 4ms/step - loss: 0.0241 - accuracy: 0.9920 - val_loss: 0.0232 - val_accuracy: 0.9912\n",
      "Epoch 8/10\n",
      "469/469 [==============================] - 2s 4ms/step - loss: 0.0208 - accuracy: 0.9931 - val_loss: 0.0295 - val_accuracy: 0.9905\n",
      "Epoch 9/10\n",
      "469/469 [==============================] - 2s 4ms/step - loss: 0.0178 - accuracy: 0.9944 - val_loss: 0.0283 - val_accuracy: 0.9913\n",
      "Epoch 10/10\n",
      "469/469 [==============================] - 2s 4ms/step - loss: 0.0188 - accuracy: 0.9936 - val_loss: 0.0245 - val_accuracy: 0.9920\n"
     ]
    },
    {
     "data": {
      "text/plain": [
       "<tensorflow.python.keras.callbacks.History at 0x7f5264211208>"
      ]
     },
     "execution_count": 15,
     "metadata": {},
     "output_type": "execute_result"
    }
   ],
   "source": [
    "model.fit(\n",
    "    ds_train,\n",
    "    epochs=10,\n",
    "    validation_data=ds_test,\n",
    ")"
   ]
  },
  {
   "cell_type": "code",
   "execution_count": 16,
   "metadata": {},
   "outputs": [
    {
     "name": "stdout",
     "output_type": "stream",
     "text": [
      "Model: \"sequential_2\"\n",
      "_________________________________________________________________\n",
      "Layer (type)                 Output Shape              Param #   \n",
      "=================================================================\n",
      "conv2d_2 (Conv2D)            (None, 26, 26, 32)        320       \n",
      "_________________________________________________________________\n",
      "max_pooling2d_2 (MaxPooling2 (None, 13, 13, 32)        0         \n",
      "_________________________________________________________________\n",
      "dropout_2 (Dropout)          (None, 13, 13, 32)        0         \n",
      "_________________________________________________________________\n",
      "conv2d_3 (Conv2D)            (None, 11, 11, 64)        18496     \n",
      "_________________________________________________________________\n",
      "max_pooling2d_3 (MaxPooling2 (None, 5, 5, 64)          0         \n",
      "_________________________________________________________________\n",
      "dropout_3 (Dropout)          (None, 5, 5, 64)          0         \n",
      "_________________________________________________________________\n",
      "flatten_1 (Flatten)          (None, 1600)              0         \n",
      "_________________________________________________________________\n",
      "dense_1 (Dense)              (None, 256)               409856    \n",
      "_________________________________________________________________\n",
      "dense_2 (Dense)              (None, 10)                2570      \n",
      "=================================================================\n",
      "Total params: 431,242\n",
      "Trainable params: 431,242\n",
      "Non-trainable params: 0\n",
      "_________________________________________________________________\n"
     ]
    }
   ],
   "source": [
    "model.summary()\n"
   ]
  },
  {
   "cell_type": "code",
   "execution_count": 17,
   "metadata": {},
   "outputs": [
    {
     "name": "stdout",
     "output_type": "stream",
     "text": [
      "WARNING:tensorflow:From /home/ec2-user/anaconda3/envs/tensorflow2_p36/lib/python3.6/site-packages/tensorflow_core/python/ops/resource_variable_ops.py:1786: calling BaseResourceVariable.__init__ (from tensorflow.python.ops.resource_variable_ops) with constraint is deprecated and will be removed in a future version.\n",
      "Instructions for updating:\n",
      "If using Keras pass *_constraint arguments to layers.\n"
     ]
    },
    {
     "name": "stderr",
     "output_type": "stream",
     "text": [
      "WARNING:tensorflow:From /home/ec2-user/anaconda3/envs/tensorflow2_p36/lib/python3.6/site-packages/tensorflow_core/python/ops/resource_variable_ops.py:1786: calling BaseResourceVariable.__init__ (from tensorflow.python.ops.resource_variable_ops) with constraint is deprecated and will be removed in a future version.\n",
      "Instructions for updating:\n",
      "If using Keras pass *_constraint arguments to layers.\n"
     ]
    },
    {
     "name": "stdout",
     "output_type": "stream",
     "text": [
      "INFO:tensorflow:Assets written to: my_model_v2/assets\n"
     ]
    },
    {
     "name": "stderr",
     "output_type": "stream",
     "text": [
      "INFO:tensorflow:Assets written to: my_model_v2/assets\n"
     ]
    }
   ],
   "source": [
    "model.save('my_model_v2') "
   ]
  },
  {
   "cell_type": "code",
   "execution_count": 18,
   "metadata": {},
   "outputs": [],
   "source": [
    "model.save('my_model_v2.h5') "
   ]
  },
  {
   "cell_type": "code",
   "execution_count": null,
   "metadata": {},
   "outputs": [],
   "source": []
  }
 ],
 "metadata": {
  "colab": {
   "collapsed_sections": [],
   "last_runtime": {
    "build_target": "//learning/deepmind/dm_python:dm_notebook3",
    "kind": "private"
   },
   "name": "tensorflow/datasets",
   "private_outputs": true,
   "provenance": []
  },
  "kernelspec": {
   "display_name": "conda_tensorflow2_p36",
   "language": "python",
   "name": "conda_tensorflow2_p36"
  },
  "language_info": {
   "codemirror_mode": {
    "name": "ipython",
    "version": 3
   },
   "file_extension": ".py",
   "mimetype": "text/x-python",
   "name": "python",
   "nbconvert_exporter": "python",
   "pygments_lexer": "ipython3",
   "version": "3.6.10"
  }
 },
 "nbformat": 4,
 "nbformat_minor": 4
}
