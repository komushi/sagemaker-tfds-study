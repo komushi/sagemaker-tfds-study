{
 "cells": [
  {
   "cell_type": "code",
   "execution_count": 1,
   "metadata": {
    "colab": {},
    "colab_type": "code",
    "id": "TTBSvHcSLBzc"
   },
   "outputs": [],
   "source": [
    "import tensorflow.compat.v2 as tf\n",
    "import tensorflow_datasets as tfds\n",
    "\n",
    "tfds.disable_progress_bar()\n",
    "tf.enable_v2_behavior()"
   ]
  },
  {
   "cell_type": "code",
   "execution_count": 2,
   "metadata": {},
   "outputs": [],
   "source": [
    "def normalize_img(image, label):\n",
    "  \"\"\"Normalizes images: `uint8` -> `float32`.\"\"\"\n",
    "  return tf.cast(image, tf.float32) / 255., label"
   ]
  },
  {
   "cell_type": "code",
   "execution_count": 3,
   "metadata": {},
   "outputs": [],
   "source": [
    "my_model = tf.keras.models.load_model(\"my_model\")"
   ]
  },
  {
   "cell_type": "code",
   "execution_count": 4,
   "metadata": {},
   "outputs": [
    {
     "name": "stdout",
     "output_type": "stream",
     "text": [
      "<class 'tensorflow.python.data.ops.dataset_ops._OptionsDataset'>\n",
      "<class 'numpy.ndarray'> <class 'numpy.int64'> 7\n",
      "<class 'numpy.ndarray'> <class 'numpy.int64'> 4\n"
     ]
    }
   ],
   "source": [
    "(ds_test, ds_train) = tfds.load(\n",
    "    'mnist',\n",
    "    split=['test', 'train'], \n",
    "    as_supervised=True,\n",
    "    shuffle_files=True\n",
    ")\n",
    "\n",
    "print(type(ds_test))\n",
    "\n",
    "for image, label in tfds.as_numpy(ds_test.take(1)):\n",
    "    print(type(image), type(label), label)\n",
    "    \n",
    "for image, label in tfds.as_numpy(ds_train.take(1)):\n",
    "    print(type(image), type(label), label)  "
   ]
  },
  {
   "cell_type": "code",
   "execution_count": 81,
   "metadata": {},
   "outputs": [
    {
     "name": "stdout",
     "output_type": "stream",
     "text": [
      "<class 'tensorflow.python.data.ops.dataset_ops._OptionsDataset'>\n",
      "<class 'numpy.ndarray'> <class 'numpy.int64'> 2\n",
      "<class 'numpy.ndarray'> <class 'numpy.int64'> 0\n"
     ]
    }
   ],
   "source": [
    "# ds_mnist = tfds.load(\n",
    "#     'mnist',\n",
    "#     as_supervised=True,\n",
    "#     shuffle_files=True\n",
    "# )\n",
    "\n",
    "# ds_test = ds_mnist['test']\n",
    "# ds_train = ds_mnist['train']\n",
    "# print(type(ds_test))\n",
    "\n",
    "\n",
    "# for image, label in tfds.as_numpy(ds_test.take(1)):\n",
    "#     print(type(image), type(label), label)\n",
    "    \n",
    "# for image, label in tfds.as_numpy(ds_train.take(1)):\n",
    "#     print(type(image), type(label), label)    "
   ]
  },
  {
   "cell_type": "code",
   "execution_count": 5,
   "metadata": {},
   "outputs": [],
   "source": [
    "# normalize_img\n",
    "ds_test = ds_test.map(normalize_img, num_parallel_calls=tf.data.experimental.AUTOTUNE)\n"
   ]
  },
  {
   "cell_type": "code",
   "execution_count": 6,
   "metadata": {},
   "outputs": [
    {
     "name": "stdout",
     "output_type": "stream",
     "text": [
      "(28, 28, 1)\n"
     ]
    },
    {
     "data": {
      "image/png": "[encoded data removed]",
      "text/plain": [
       "<Figure size 432x288 with 1 Axes>"
      ]
     },
     "metadata": {
      "needs_background": "light"
     },
     "output_type": "display_data"
    },
    {
     "name": "stdout",
     "output_type": "stream",
     "text": [
      "(28, 28, 1)\n"
     ]
    },
    {
     "data": {
      "image/png": "[encoded data removed]",
      "text/plain": [
       "<Figure size 432x288 with 1 Axes>"
      ]
     },
     "metadata": {
      "needs_background": "light"
     },
     "output_type": "display_data"
    },
    {
     "name": "stdout",
     "output_type": "stream",
     "text": [
      "(28, 28, 1)\n"
     ]
    },
    {
     "data": {
      "image/png": "[encoded data removed]",
      "text/plain": [
       "<Figure size 432x288 with 1 Axes>"
      ]
     },
     "metadata": {
      "needs_background": "light"
     },
     "output_type": "display_data"
    },
    {
     "name": "stdout",
     "output_type": "stream",
     "text": [
      "(28, 28, 1)\n"
     ]
    },
    {
     "data": {
      "image/png": "[encoded data removed]",
      "text/plain": [
       "<Figure size 432x288 with 1 Axes>"
      ]
     },
     "metadata": {
      "needs_background": "light"
     },
     "output_type": "display_data"
    }
   ],
   "source": [
    "from matplotlib import pyplot as plt\n",
    "\n",
    "# A few random samples\n",
    "use_samples = [159, 1336, 1283, 2122]\n",
    "samples_to_predict = []\n",
    "\n",
    "for sample in use_samples:\n",
    "    # Generate a plot\n",
    "    reshaped_image = list(ds_test)[sample]\n",
    "#     print(reshaped_image[0])\n",
    "    print(reshaped_image[0].shape)\n",
    "    img = tf.keras.preprocessing.image.array_to_img(reshaped_image[0])    \n",
    "    plt.imshow(img)\n",
    "    plt.show()\n",
    "    samples_to_predict.append(reshaped_image[0])\n",
    "\n"
   ]
  },
  {
   "cell_type": "code",
   "execution_count": null,
   "metadata": {},
   "outputs": [],
   "source": [
    "# print(samples_to_predict[0])"
   ]
  },
  {
   "cell_type": "code",
   "execution_count": 8,
   "metadata": {},
   "outputs": [
    {
     "name": "stdout",
     "output_type": "stream",
     "text": [
      "(28, 28, 1)\n",
      "(28, 28, 1)\n",
      "(28, 28, 1)\n",
      "(28, 28, 1)\n",
      "(4, 28, 28, 1)\n"
     ]
    }
   ],
   "source": [
    "import numpy as np\n",
    "\n",
    "for sample in samples_to_predict:\n",
    "    print(sample.shape)\n",
    "\n",
    "samples_to_predict = np.array(samples_to_predict)\n",
    "print(samples_to_predict.shape)"
   ]
  },
  {
   "cell_type": "code",
   "execution_count": 9,
   "metadata": {},
   "outputs": [
    {
     "name": "stdout",
     "output_type": "stream",
     "text": [
      "[[5.86640638e-08 2.34280338e-11 2.79293617e-05 6.00093008e-05\n",
      "  2.77800556e-08 7.15957794e-05 5.06273636e-08 1.90981790e-08\n",
      "  9.93757010e-01 6.08329987e-03]\n",
      " [2.91260658e-03 6.28612229e-09 1.64546509e-05 3.86447464e-05\n",
      "  1.93247951e-09 2.45400723e-02 9.67257798e-01 1.08699636e-08\n",
      "  5.14567224e-03 8.87107890e-05]\n",
      " [5.11939184e-08 8.23022817e-10 1.21604038e-09 7.46782644e-06\n",
      "  7.90911520e-12 9.99977350e-01 2.64918532e-09 3.08080845e-13\n",
      "  1.93362985e-06 1.31951865e-05]\n",
      " [1.32424574e-07 1.03601266e-03 1.62898461e-04 4.89898093e-06\n",
      "  2.98473373e-04 8.07496690e-06 6.54097221e-10 9.98213530e-01\n",
      "  2.23350391e-04 5.27160955e-05]]\n",
      "[8 6 5 7]\n"
     ]
    }
   ],
   "source": [
    "predictions = my_model.predict(samples_to_predict)\n",
    "print(predictions)\n",
    "\n",
    "classes = np.argmax(predictions, axis = 1)\n",
    "print(classes)"
   ]
  },
  {
   "cell_type": "code",
   "execution_count": null,
   "metadata": {},
   "outputs": [],
   "source": []
  }
 ],
 "metadata": {
  "colab": {
   "collapsed_sections": [],
   "last_runtime": {
    "build_target": "//learning/deepmind/dm_python:dm_notebook3",
    "kind": "private"
   },
   "name": "tensorflow/datasets",
   "private_outputs": true,
   "provenance": []
  },
  "kernelspec": {
   "display_name": "conda_tensorflow2_p36",
   "language": "python",
   "name": "conda_tensorflow2_p36"
  },
  "language_info": {
   "codemirror_mode": {
    "name": "ipython",
    "version": 3
   },
   "file_extension": ".py",
   "mimetype": "text/x-python",
   "name": "python",
   "nbconvert_exporter": "python",
   "pygments_lexer": "ipython3",
   "version": "3.6.10"
  }
 },
 "nbformat": 4,
 "nbformat_minor": 4
}
